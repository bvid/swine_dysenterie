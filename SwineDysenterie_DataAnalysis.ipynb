{
 "cells": [
  {
   "cell_type": "markdown",
   "id": "6ad77b10",
   "metadata": {},
   "source": [
    "# Part III: Interpretable Machine Learning"
   ]
  },
  {
   "cell_type": "markdown",
   "id": "7615ee4a-9a3e-48cc-8a01-974c7ec4492d",
   "metadata": {},
   "source": [
    "# Eradication of Brachyspira hyodysenteriae in swine farms\n",
    " "
   ]
  },
  {
   "cell_type": "markdown",
   "id": "a42ff849-df5b-4918-b903-a6173e9b5374",
   "metadata": {},
   "source": [
    "Brachyspira hyodysenteriae infection affects welfare and production\n",
    "\n",
    "Its eradication (cleaning and disinfection of the barns) is voluntary in Switzerland\n",
    "\n",
    "It involves high costs, especially for pigglet producers with continuous production. For fattening farms, it is easier thanks to slaughter, on the empty barns \n",
    "\n",
    "High variety of swine farms, mixed production\n",
    "\n",
    "Project funded by Swiss Federal Office for Food Safety and Veterinary Affairs, carried out by the Swine Clinic, Animal Hospital, in collaboration with the Veterinary Public Health Institute (UniBe)\n",
    "\n",
    "AIM: characterize the farms according to their satisfaction, who are the most dissatisfied?\n",
    "\n",
    "For policy making: how can we make eradications easier for the farmers? how can we increase their motivation and satisfaction so that the number of eradications increase? (opinion formation)\n",
    "\n",
    "Implication: the more eradications, the fewer infections, healthier animals and more effective production"
   ]
  },
  {
   "cell_type": "markdown",
   "id": "ba01a917-bab3-49fe-a014-7a46e6a53e4b",
   "metadata": {},
   "source": [
    "DATA: Questionnaire-based, voluntary participation of 68 farms that performed eradications. Some strong associations exist (prelim analysis done in R)"
   ]
  },
  {
   "cell_type": "code",
   "execution_count": 1,
   "id": "af53aa7c-b175-452e-806e-a1325fca619a",
   "metadata": {},
   "outputs": [],
   "source": [
    "# Python ≥3.5 is required\n",
    "import sys\n",
    "assert sys.version_info >= (3, 5)\n",
    "\n",
    "# Scikit-Learn ≥0.20 is required\n",
    "import sklearn\n",
    "assert sklearn.__version__ >= \"0.20\"\n",
    "\n",
    "# Common imports\n",
    "import pandas as pd\n",
    "import numpy as np\n",
    "import os\n",
    "\n",
    "# To plot pretty figures\n",
    "%matplotlib inline\n",
    "import matplotlib as mpl\n",
    "import matplotlib.pyplot as plt\n",
    "mpl.rc('axes', labelsize=14)\n",
    "mpl.rc('xtick', labelsize=12)\n",
    "mpl.rc('ytick', labelsize=12)\n",
    "\n",
    "# Where to save the figures\n",
    "PROJECT_ROOT_DIR = \"C:/05 Consulting/Zeeh/Data\"\n",
    "CHAPTER_ID = \"interpret\"\n",
    "IMAGES_PATH = os.path.join(PROJECT_ROOT_DIR, \"images\",CHAPTER_ID)\n",
    "os.makedirs(IMAGES_PATH, exist_ok=True)\n",
    "\n",
    "def save_fig(fig_id, tight_layout=True, fig_extension=\"png\", resolution=300):\n",
    "    path = os.path.join(IMAGES_PATH, fig_id + \".\" + fig_extension)\n",
    "    print(\"Saving figure\", fig_id)\n",
    "    if tight_layout:\n",
    "        plt.tight_layout()\n",
    "    plt.savefig(path, format=fig_extension, dpi=resolution)\n",
    "\n",
    "# Ignore useless warnings (see SciPy issue #5998)\n",
    "import warnings\n",
    "warnings.filterwarnings(action=\"ignore\", message=\"^internal gelsd\")"
   ]
  },
  {
   "cell_type": "code",
   "execution_count": 2,
   "id": "2604ae59-8b71-43ae-9f37-631017c4b852",
   "metadata": {},
   "outputs": [
    {
     "data": {
      "text/plain": [
       "'C:\\\\05 Consulting\\\\Zeeh\\\\Data'"
      ]
     },
     "execution_count": 2,
     "metadata": {},
     "output_type": "execute_result"
    }
   ],
   "source": [
    "os.getcwd()\n",
    "os.chdir(\"C:/05 Consulting/Zeeh/Data\")\n",
    "os.getcwd()"
   ]
  },
  {
   "cell_type": "markdown",
   "id": "d77a6011",
   "metadata": {},
   "source": [
    "#TODO: normalize Satisfaction variable, \n",
    "rename Satisf \n",
    "rename NoDisinf = OnlyClean\n",
    "recode ContRyth\n",
    "recode ExtMotiv\n",
    "add variables (from raw data on costs and time to perform eradication)\n",
    "combine disinf (slurry,clothing,boots) variables\n",
    "add SanBegE, but two categories, obliged vs convenient ?"
   ]
  },
  {
   "cell_type": "code",
   "execution_count": 3,
   "id": "d18ea1b8-7e94-4abc-81d7-f35a9dd93a08",
   "metadata": {},
   "outputs": [
    {
     "data": {
      "text/html": [
       "<div>\n",
       "<style scoped>\n",
       "    .dataframe tbody tr th:only-of-type {\n",
       "        vertical-align: middle;\n",
       "    }\n",
       "\n",
       "    .dataframe tbody tr th {\n",
       "        vertical-align: top;\n",
       "    }\n",
       "\n",
       "    .dataframe thead th {\n",
       "        text-align: right;\n",
       "    }\n",
       "</style>\n",
       "<table border=\"1\" class=\"dataframe\">\n",
       "  <thead>\n",
       "    <tr style=\"text-align: right;\">\n",
       "      <th></th>\n",
       "      <th>ProdType</th>\n",
       "      <th>ProdTypV</th>\n",
       "      <th>ProdTypV2rf</th>\n",
       "      <th>Motivation</th>\n",
       "      <th>Economic</th>\n",
       "      <th>Financial</th>\n",
       "      <th>Health</th>\n",
       "      <th>Medical</th>\n",
       "      <th>Content</th>\n",
       "      <th>WorkLoad</th>\n",
       "      <th>...</th>\n",
       "      <th>LabelBTS</th>\n",
       "      <th>LabelRAUS</th>\n",
       "      <th>MoreLabel</th>\n",
       "      <th>Distance</th>\n",
       "      <th>sLDistance</th>\n",
       "      <th>Outdoor</th>\n",
       "      <th>NoWild</th>\n",
       "      <th>Slurry</th>\n",
       "      <th>ExtMotiv</th>\n",
       "      <th>NoDisinf</th>\n",
       "    </tr>\n",
       "  </thead>\n",
       "  <tbody>\n",
       "    <tr>\n",
       "      <th>0</th>\n",
       "      <td>1</td>\n",
       "      <td>14</td>\n",
       "      <td>2</td>\n",
       "      <td>1.0</td>\n",
       "      <td>0.0</td>\n",
       "      <td>0</td>\n",
       "      <td>0.0</td>\n",
       "      <td>0.0</td>\n",
       "      <td>1</td>\n",
       "      <td>1</td>\n",
       "      <td>...</td>\n",
       "      <td>1</td>\n",
       "      <td>1</td>\n",
       "      <td>0</td>\n",
       "      <td>800</td>\n",
       "      <td>0.526638</td>\n",
       "      <td>0</td>\n",
       "      <td>0</td>\n",
       "      <td>0</td>\n",
       "      <td>0</td>\n",
       "      <td>0</td>\n",
       "    </tr>\n",
       "    <tr>\n",
       "      <th>1</th>\n",
       "      <td>1</td>\n",
       "      <td>14</td>\n",
       "      <td>2</td>\n",
       "      <td>0.0</td>\n",
       "      <td>1.0</td>\n",
       "      <td>0</td>\n",
       "      <td>1.0</td>\n",
       "      <td>1.0</td>\n",
       "      <td>1</td>\n",
       "      <td>0</td>\n",
       "      <td>...</td>\n",
       "      <td>0</td>\n",
       "      <td>0</td>\n",
       "      <td>0</td>\n",
       "      <td>800</td>\n",
       "      <td>0.526638</td>\n",
       "      <td>1</td>\n",
       "      <td>1</td>\n",
       "      <td>1</td>\n",
       "      <td>0</td>\n",
       "      <td>0</td>\n",
       "    </tr>\n",
       "    <tr>\n",
       "      <th>2</th>\n",
       "      <td>1</td>\n",
       "      <td>14</td>\n",
       "      <td>2</td>\n",
       "      <td>1.0</td>\n",
       "      <td>1.0</td>\n",
       "      <td>0</td>\n",
       "      <td>0.0</td>\n",
       "      <td>0.0</td>\n",
       "      <td>1</td>\n",
       "      <td>0</td>\n",
       "      <td>...</td>\n",
       "      <td>1</td>\n",
       "      <td>1</td>\n",
       "      <td>0</td>\n",
       "      <td>300</td>\n",
       "      <td>-0.300913</td>\n",
       "      <td>0</td>\n",
       "      <td>0</td>\n",
       "      <td>1</td>\n",
       "      <td>0</td>\n",
       "      <td>0</td>\n",
       "    </tr>\n",
       "    <tr>\n",
       "      <th>3</th>\n",
       "      <td>3</td>\n",
       "      <td>12</td>\n",
       "      <td>4</td>\n",
       "      <td>0.0</td>\n",
       "      <td>0.0</td>\n",
       "      <td>1</td>\n",
       "      <td>0.0</td>\n",
       "      <td>0.0</td>\n",
       "      <td>1</td>\n",
       "      <td>1</td>\n",
       "      <td>...</td>\n",
       "      <td>1</td>\n",
       "      <td>0</td>\n",
       "      <td>0</td>\n",
       "      <td>300</td>\n",
       "      <td>-0.300913</td>\n",
       "      <td>1</td>\n",
       "      <td>1</td>\n",
       "      <td>0</td>\n",
       "      <td>1</td>\n",
       "      <td>0</td>\n",
       "    </tr>\n",
       "    <tr>\n",
       "      <th>4</th>\n",
       "      <td>1</td>\n",
       "      <td>14</td>\n",
       "      <td>2</td>\n",
       "      <td>1.0</td>\n",
       "      <td>1.0</td>\n",
       "      <td>1</td>\n",
       "      <td>1.0</td>\n",
       "      <td>1.0</td>\n",
       "      <td>1</td>\n",
       "      <td>0</td>\n",
       "      <td>...</td>\n",
       "      <td>1</td>\n",
       "      <td>1</td>\n",
       "      <td>0</td>\n",
       "      <td>500</td>\n",
       "      <td>0.130084</td>\n",
       "      <td>0</td>\n",
       "      <td>0</td>\n",
       "      <td>1</td>\n",
       "      <td>0</td>\n",
       "      <td>0</td>\n",
       "    </tr>\n",
       "  </tbody>\n",
       "</table>\n",
       "<p>5 rows × 40 columns</p>\n",
       "</div>"
      ],
      "text/plain": [
       "   ProdType  ProdTypV  ProdTypV2rf  Motivation  Economic  Financial  Health  \\\n",
       "0         1        14            2         1.0       0.0          0     0.0   \n",
       "1         1        14            2         0.0       1.0          0     1.0   \n",
       "2         1        14            2         1.0       1.0          0     0.0   \n",
       "3         3        12            4         0.0       0.0          1     0.0   \n",
       "4         1        14            2         1.0       1.0          1     1.0   \n",
       "\n",
       "   Medical  Content  WorkLoad  ...  LabelBTS  LabelRAUS  MoreLabel  Distance  \\\n",
       "0      0.0        1         1  ...         1          1          0       800   \n",
       "1      1.0        1         0  ...         0          0          0       800   \n",
       "2      0.0        1         0  ...         1          1          0       300   \n",
       "3      0.0        1         1  ...         1          0          0       300   \n",
       "4      1.0        1         0  ...         1          1          0       500   \n",
       "\n",
       "   sLDistance  Outdoor  NoWild  Slurry  ExtMotiv  NoDisinf  \n",
       "0    0.526638        0       0       0         0         0  \n",
       "1    0.526638        1       1       1         0         0  \n",
       "2   -0.300913        0       0       1         0         0  \n",
       "3   -0.300913        1       1       0         1         0  \n",
       "4    0.130084        0       0       1         0         0  \n",
       "\n",
       "[5 rows x 40 columns]"
      ]
     },
     "execution_count": 3,
     "metadata": {},
     "output_type": "execute_result"
    }
   ],
   "source": [
    "import pandas as pd\n",
    "#data = pd.read_csv('dataP.csv',sep=';')\n",
    "data = pd.read_csv('dataP.csv',sep=';').drop(columns=['Unnamed: 0', 'PrNr.', 'Group1.1', 'Group2.1'])\n",
    "data.head() # to display the first 5 lines of loaded data\n",
    "\n",
    "#dataP created in R based on \"FBAuswertungR_23.Mar.2018.csv\""
   ]
  },
  {
   "cell_type": "code",
   "execution_count": 4,
   "id": "b1de7af3-f3a0-4b37-8e1e-e5ac3a104836",
   "metadata": {},
   "outputs": [
    {
     "data": {
      "text/plain": [
       "(68, 40)"
      ]
     },
     "execution_count": 4,
     "metadata": {},
     "output_type": "execute_result"
    }
   ],
   "source": [
    "#data.info(); \n",
    "data.shape"
   ]
  },
  {
   "cell_type": "code",
   "execution_count": 5,
   "id": "ab62288d-1a74-4f94-a17a-830796d8e30d",
   "metadata": {},
   "outputs": [
    {
     "data": {
      "text/plain": [
       "Index(['ProdType', 'ProdTypV', 'ProdTypV2rf', 'Motivation', 'Economic',\n",
       "       'Financial', 'Health', 'Medical', 'Content', 'WorkLoad', 'Result',\n",
       "       'Again', 'Recommend', 'Group1', 'Group2', 'Satisfaction', 'SatisfBin',\n",
       "       'ContRythm', 'Fatten', 'HerdSize', 'sLHerdSize', 'TotalSan', 'AddPer',\n",
       "       'Bhyo', 'SowPoolS', 'NrPer', 'sLNrPers', 'Sluice', 'Clothes', 'Boots',\n",
       "       'LabelBTS', 'LabelRAUS', 'MoreLabel', 'Distance', 'sLDistance',\n",
       "       'Outdoor', 'NoWild', 'Slurry', 'ExtMotiv', 'NoDisinf'],\n",
       "      dtype='object')"
      ]
     },
     "execution_count": 5,
     "metadata": {},
     "output_type": "execute_result"
    }
   ],
   "source": [
    "# displaying column names axis=1 \n",
    "data.columns"
   ]
  },
  {
   "cell_type": "markdown",
   "id": "1608985e-9973-4dcd-89dd-339c6ba4b7b4",
   "metadata": {},
   "source": [
    "Target variables are Motivation (being motivated before) and Satisfaction (including its 9 aspects,i.e. ZufrSann, etc)\n",
    "\n",
    "Feature variables are\n",
    "\n",
    "-farm characteristics (herd size, prodtype, ring, quality labels, access to outdoor, contact to wild, disinf (slurry,clothing,boots) )\n",
    "\n",
    "-variables related to the eradication (Bhyo confirmed, total san, personnel, additional personnel, external motivation, only cleaning, costs (to add))"
   ]
  },
  {
   "cell_type": "code",
   "execution_count": 6,
   "id": "ec1dbc97-7f9b-4634-b377-5f9a79f6bbca",
   "metadata": {},
   "outputs": [
    {
     "data": {
      "text/html": [
       "<div>\n",
       "<style scoped>\n",
       "    .dataframe tbody tr th:only-of-type {\n",
       "        vertical-align: middle;\n",
       "    }\n",
       "\n",
       "    .dataframe tbody tr th {\n",
       "        vertical-align: top;\n",
       "    }\n",
       "\n",
       "    .dataframe thead th {\n",
       "        text-align: right;\n",
       "    }\n",
       "</style>\n",
       "<table border=\"1\" class=\"dataframe\">\n",
       "  <thead>\n",
       "    <tr style=\"text-align: right;\">\n",
       "      <th>ProdTypV2rf</th>\n",
       "      <th>1</th>\n",
       "      <th>2</th>\n",
       "      <th>3</th>\n",
       "      <th>4</th>\n",
       "    </tr>\n",
       "    <tr>\n",
       "      <th>ProdType</th>\n",
       "      <th></th>\n",
       "      <th></th>\n",
       "      <th></th>\n",
       "      <th></th>\n",
       "    </tr>\n",
       "  </thead>\n",
       "  <tbody>\n",
       "    <tr>\n",
       "      <th>1</th>\n",
       "      <td>0</td>\n",
       "      <td>32</td>\n",
       "      <td>0</td>\n",
       "      <td>0</td>\n",
       "    </tr>\n",
       "    <tr>\n",
       "      <th>2</th>\n",
       "      <td>0</td>\n",
       "      <td>0</td>\n",
       "      <td>10</td>\n",
       "      <td>0</td>\n",
       "    </tr>\n",
       "    <tr>\n",
       "      <th>3</th>\n",
       "      <td>0</td>\n",
       "      <td>0</td>\n",
       "      <td>0</td>\n",
       "      <td>22</td>\n",
       "    </tr>\n",
       "    <tr>\n",
       "      <th>4</th>\n",
       "      <td>4</td>\n",
       "      <td>0</td>\n",
       "      <td>0</td>\n",
       "      <td>0</td>\n",
       "    </tr>\n",
       "  </tbody>\n",
       "</table>\n",
       "</div>"
      ],
      "text/plain": [
       "ProdTypV2rf  1   2   3   4\n",
       "ProdType                  \n",
       "1            0  32   0   0\n",
       "2            0   0  10   0\n",
       "3            0   0   0  22\n",
       "4            4   0   0   0"
      ]
     },
     "execution_count": 6,
     "metadata": {},
     "output_type": "execute_result"
    }
   ],
   "source": [
    "#production type (1= fattening herd, 2= piglet rearing herd, 3= piglet producer, 4= Sow pool herd)\n",
    "#Produktionstyp (1= Mastbestand oder Remontenaufzucht, 2= Ferkelaufzucht, 3= Abferkel- und Aufzucht, 4= Deck- Wartebestand)\n",
    "pd.crosstab(data[\"ProdType\"], data[\"ProdTypV2rf\"])"
   ]
  },
  {
   "cell_type": "code",
   "execution_count": 7,
   "id": "1a0f4675-1d43-4a3e-a5e3-5be749f52c52",
   "metadata": {},
   "outputs": [
    {
     "data": {
      "text/html": [
       "<div>\n",
       "<style scoped>\n",
       "    .dataframe tbody tr th:only-of-type {\n",
       "        vertical-align: middle;\n",
       "    }\n",
       "\n",
       "    .dataframe tbody tr th {\n",
       "        vertical-align: top;\n",
       "    }\n",
       "\n",
       "    .dataframe thead th {\n",
       "        text-align: right;\n",
       "    }\n",
       "</style>\n",
       "<table border=\"1\" class=\"dataframe\">\n",
       "  <thead>\n",
       "    <tr style=\"text-align: right;\">\n",
       "      <th>ProdType</th>\n",
       "      <th>1</th>\n",
       "      <th>2</th>\n",
       "      <th>3</th>\n",
       "      <th>4</th>\n",
       "    </tr>\n",
       "    <tr>\n",
       "      <th>Fatten</th>\n",
       "      <th></th>\n",
       "      <th></th>\n",
       "      <th></th>\n",
       "      <th></th>\n",
       "    </tr>\n",
       "  </thead>\n",
       "  <tbody>\n",
       "    <tr>\n",
       "      <th>0</th>\n",
       "      <td>0</td>\n",
       "      <td>3</td>\n",
       "      <td>12</td>\n",
       "      <td>4</td>\n",
       "    </tr>\n",
       "    <tr>\n",
       "      <th>1</th>\n",
       "      <td>32</td>\n",
       "      <td>7</td>\n",
       "      <td>10</td>\n",
       "      <td>0</td>\n",
       "    </tr>\n",
       "  </tbody>\n",
       "</table>\n",
       "</div>"
      ],
      "text/plain": [
       "ProdType   1  2   3  4\n",
       "Fatten                \n",
       "0          0  3  12  4\n",
       "1         32  7  10  0"
      ]
     },
     "execution_count": 7,
     "metadata": {},
     "output_type": "execute_result"
    }
   ],
   "source": [
    "pd.crosstab(data[\"Fatten\"], data[\"ProdType\"])\n",
    "#there is only 4 sow pool herds, without fattening"
   ]
  },
  {
   "cell_type": "code",
   "execution_count": 8,
   "id": "3a4ca7cd-5761-4b19-99b4-7a2786efaf75",
   "metadata": {},
   "outputs": [
    {
     "data": {
      "text/html": [
       "<div>\n",
       "<style scoped>\n",
       "    .dataframe tbody tr th:only-of-type {\n",
       "        vertical-align: middle;\n",
       "    }\n",
       "\n",
       "    .dataframe tbody tr th {\n",
       "        vertical-align: top;\n",
       "    }\n",
       "\n",
       "    .dataframe thead th {\n",
       "        text-align: right;\n",
       "    }\n",
       "</style>\n",
       "<table border=\"1\" class=\"dataframe\">\n",
       "  <thead>\n",
       "    <tr style=\"text-align: right;\">\n",
       "      <th>SatisfBin</th>\n",
       "      <th>0</th>\n",
       "      <th>1</th>\n",
       "    </tr>\n",
       "    <tr>\n",
       "      <th>Fatten</th>\n",
       "      <th></th>\n",
       "      <th></th>\n",
       "    </tr>\n",
       "  </thead>\n",
       "  <tbody>\n",
       "    <tr>\n",
       "      <th>0</th>\n",
       "      <td>13</td>\n",
       "      <td>6</td>\n",
       "    </tr>\n",
       "    <tr>\n",
       "      <th>1</th>\n",
       "      <td>21</td>\n",
       "      <td>28</td>\n",
       "    </tr>\n",
       "  </tbody>\n",
       "</table>\n",
       "</div>"
      ],
      "text/plain": [
       "SatisfBin   0   1\n",
       "Fatten           \n",
       "0          13   6\n",
       "1          21  28"
      ]
     },
     "execution_count": 8,
     "metadata": {},
     "output_type": "execute_result"
    }
   ],
   "source": [
    "pd.crosstab(data[\"Fatten\"], data[\"SatisfBin\"])"
   ]
  },
  {
   "cell_type": "code",
   "execution_count": 9,
   "id": "b35c9ff5-9c54-4356-a29c-27ec6e14f1bd",
   "metadata": {},
   "outputs": [
    {
     "data": {
      "text/html": [
       "<div>\n",
       "<style scoped>\n",
       "    .dataframe tbody tr th:only-of-type {\n",
       "        vertical-align: middle;\n",
       "    }\n",
       "\n",
       "    .dataframe tbody tr th {\n",
       "        vertical-align: top;\n",
       "    }\n",
       "\n",
       "    .dataframe thead th {\n",
       "        text-align: right;\n",
       "    }\n",
       "</style>\n",
       "<table border=\"1\" class=\"dataframe\">\n",
       "  <thead>\n",
       "    <tr style=\"text-align: right;\">\n",
       "      <th>SatisfBin</th>\n",
       "      <th>0</th>\n",
       "      <th>1</th>\n",
       "    </tr>\n",
       "    <tr>\n",
       "      <th>NoDisinf</th>\n",
       "      <th></th>\n",
       "      <th></th>\n",
       "    </tr>\n",
       "  </thead>\n",
       "  <tbody>\n",
       "    <tr>\n",
       "      <th>0</th>\n",
       "      <td>33</td>\n",
       "      <td>28</td>\n",
       "    </tr>\n",
       "    <tr>\n",
       "      <th>1</th>\n",
       "      <td>1</td>\n",
       "      <td>6</td>\n",
       "    </tr>\n",
       "  </tbody>\n",
       "</table>\n",
       "</div>"
      ],
      "text/plain": [
       "SatisfBin   0   1\n",
       "NoDisinf         \n",
       "0          33  28\n",
       "1           1   6"
      ]
     },
     "execution_count": 9,
     "metadata": {},
     "output_type": "execute_result"
    }
   ],
   "source": [
    "pd.crosstab(data[\"NoDisinf\"], data[\"SatisfBin\"])"
   ]
  },
  {
   "cell_type": "code",
   "execution_count": 10,
   "id": "e955e7ad-7278-4e6f-86ba-61f484fb2783",
   "metadata": {},
   "outputs": [
    {
     "data": {
      "text/html": [
       "<div>\n",
       "<style scoped>\n",
       "    .dataframe tbody tr th:only-of-type {\n",
       "        vertical-align: middle;\n",
       "    }\n",
       "\n",
       "    .dataframe tbody tr th {\n",
       "        vertical-align: top;\n",
       "    }\n",
       "\n",
       "    .dataframe thead th {\n",
       "        text-align: right;\n",
       "    }\n",
       "</style>\n",
       "<table border=\"1\" class=\"dataframe\">\n",
       "  <thead>\n",
       "    <tr style=\"text-align: right;\">\n",
       "      <th>SatisfBin</th>\n",
       "      <th>0</th>\n",
       "      <th>1</th>\n",
       "    </tr>\n",
       "    <tr>\n",
       "      <th>ProdType</th>\n",
       "      <th></th>\n",
       "      <th></th>\n",
       "    </tr>\n",
       "  </thead>\n",
       "  <tbody>\n",
       "    <tr>\n",
       "      <th>1</th>\n",
       "      <td>11</td>\n",
       "      <td>21</td>\n",
       "    </tr>\n",
       "    <tr>\n",
       "      <th>2</th>\n",
       "      <td>7</td>\n",
       "      <td>3</td>\n",
       "    </tr>\n",
       "    <tr>\n",
       "      <th>3</th>\n",
       "      <td>13</td>\n",
       "      <td>9</td>\n",
       "    </tr>\n",
       "    <tr>\n",
       "      <th>4</th>\n",
       "      <td>3</td>\n",
       "      <td>1</td>\n",
       "    </tr>\n",
       "  </tbody>\n",
       "</table>\n",
       "</div>"
      ],
      "text/plain": [
       "SatisfBin   0   1\n",
       "ProdType         \n",
       "1          11  21\n",
       "2           7   3\n",
       "3          13   9\n",
       "4           3   1"
      ]
     },
     "execution_count": 10,
     "metadata": {},
     "output_type": "execute_result"
    }
   ],
   "source": [
    "pd.crosstab(data[\"ProdType\"], data[\"SatisfBin\"])"
   ]
  },
  {
   "cell_type": "markdown",
   "id": "6e3ea18e-2e64-4c29-aeaf-8c5f019b90c9",
   "metadata": {},
   "source": [
    "Hypothesis: most fattening are satisfied, but not the pigglet producers (2,3) and the sow pool farms (4) - less satisfied"
   ]
  },
  {
   "cell_type": "code",
   "execution_count": null,
   "id": "659b7405-8963-41c4-a03f-51c0769ef70e",
   "metadata": {},
   "outputs": [],
   "source": []
  },
  {
   "cell_type": "markdown",
   "id": "60184fe4-a2c0-49eb-a097-d61a2ffdd39b",
   "metadata": {},
   "source": [
    "## Missing values"
   ]
  },
  {
   "cell_type": "code",
   "execution_count": 11,
   "id": "7aa4492d-5d38-43b2-937c-caa0f88f2fc4",
   "metadata": {},
   "outputs": [
    {
     "data": {
      "text/plain": [
       "ProdType         0\n",
       "ProdTypV         0\n",
       "ProdTypV2rf      0\n",
       "Motivation       1\n",
       "Economic         1\n",
       "Financial        0\n",
       "Health           1\n",
       "Medical          1\n",
       "Content          0\n",
       "WorkLoad         0\n",
       "Result           0\n",
       "Again            8\n",
       "Recommend        2\n",
       "Group1           0\n",
       "Group2           0\n",
       "Satisfaction     0\n",
       "SatisfBin        0\n",
       "ContRythm       32\n",
       "Fatten           0\n",
       "HerdSize         0\n",
       "sLHerdSize       0\n",
       "TotalSan         0\n",
       "AddPer           0\n",
       "Bhyo             0\n",
       "SowPoolS         0\n",
       "NrPer            0\n",
       "sLNrPers         0\n",
       "Sluice           0\n",
       "Clothes          0\n",
       "Boots            0\n",
       "LabelBTS         0\n",
       "LabelRAUS        0\n",
       "MoreLabel        0\n",
       "Distance         0\n",
       "sLDistance       0\n",
       "Outdoor          0\n",
       "NoWild           0\n",
       "Slurry           0\n",
       "ExtMotiv         0\n",
       "NoDisinf         0\n",
       "dtype: int64"
      ]
     },
     "execution_count": 11,
     "metadata": {},
     "output_type": "execute_result"
    }
   ],
   "source": [
    "data.isnull().sum()\n",
    "#TODO: four variables with only one missing (Motivation, WirtSann, GesuSann, MediSann)\n",
    "#TODO: data imputation, calculate the highest proportion and assign the missing to the highest proportion(?)"
   ]
  },
  {
   "cell_type": "code",
   "execution_count": 12,
   "id": "a2f7bcbd-2823-4a82-9d27-eb829d7df30f",
   "metadata": {},
   "outputs": [
    {
     "data": {
      "text/plain": [
       "32"
      ]
     },
     "execution_count": 12,
     "metadata": {},
     "output_type": "execute_result"
    }
   ],
   "source": [
    "data[\"ContRythm\"].isnull().sum()"
   ]
  },
  {
   "cell_type": "markdown",
   "id": "ab7fcc84-bc7e-468a-b494-e6d4bf51e712",
   "metadata": {},
   "source": [
    "ContRyth only applies to pigglet producers, this variable needs to be excluded for some analysis\n",
    "\n",
    "But if continuous rythm is more expensive and if only applies to pigglet producers, here the least satisfied farmers would be, or not?"
   ]
  },
  {
   "cell_type": "code",
   "execution_count": 13,
   "id": "83f557f0-8dcd-4b59-bc85-213b835513c1",
   "metadata": {},
   "outputs": [
    {
     "data": {
      "text/html": [
       "<div>\n",
       "<style scoped>\n",
       "    .dataframe tbody tr th:only-of-type {\n",
       "        vertical-align: middle;\n",
       "    }\n",
       "\n",
       "    .dataframe tbody tr th {\n",
       "        vertical-align: top;\n",
       "    }\n",
       "\n",
       "    .dataframe thead th {\n",
       "        text-align: right;\n",
       "    }\n",
       "</style>\n",
       "<table border=\"1\" class=\"dataframe\">\n",
       "  <thead>\n",
       "    <tr style=\"text-align: right;\">\n",
       "      <th>SatisfBin</th>\n",
       "      <th>0</th>\n",
       "      <th>1</th>\n",
       "    </tr>\n",
       "    <tr>\n",
       "      <th>ContRythm</th>\n",
       "      <th></th>\n",
       "      <th></th>\n",
       "    </tr>\n",
       "  </thead>\n",
       "  <tbody>\n",
       "    <tr>\n",
       "      <th>0.0</th>\n",
       "      <td>13</td>\n",
       "      <td>11</td>\n",
       "    </tr>\n",
       "    <tr>\n",
       "      <th>1.0</th>\n",
       "      <td>10</td>\n",
       "      <td>2</td>\n",
       "    </tr>\n",
       "  </tbody>\n",
       "</table>\n",
       "</div>"
      ],
      "text/plain": [
       "SatisfBin   0   1\n",
       "ContRythm        \n",
       "0.0        13  11\n",
       "1.0        10   2"
      ]
     },
     "execution_count": 13,
     "metadata": {},
     "output_type": "execute_result"
    }
   ],
   "source": [
    "pd.crosstab(data[\"ContRythm\"], data[\"SatisfBin\"])"
   ]
  },
  {
   "cell_type": "code",
   "execution_count": 14,
   "id": "32f01273-c26d-4831-8795-c40c3468aa45",
   "metadata": {},
   "outputs": [
    {
     "data": {
      "text/plain": [
       "8"
      ]
     },
     "execution_count": 14,
     "metadata": {},
     "output_type": "execute_result"
    }
   ],
   "source": [
    "data[\"Again\"].isnull().sum().sum()\n",
    "#ErneSann contains 8 NAs and needs to be excluded for some analysis, alternatively, recoded"
   ]
  },
  {
   "cell_type": "markdown",
   "id": "068e8208-e464-4519-a8b9-535cc0c8794d",
   "metadata": {},
   "source": [
    "Variable Again: would you do it again? (the eradication); 8 farmers did not reply (which is a bad sign)\n",
    "\n",
    "we could recode Again 'no reply' as 'no'\n",
    "\n",
    "we could pose the additional question:  what leads to a non-reply, how can we support these farmers to be more satisfied? (similar to gaining voters)"
   ]
  },
  {
   "cell_type": "code",
   "execution_count": 15,
   "id": "e93e1431-7092-49ce-aa31-b6beeb972c22",
   "metadata": {},
   "outputs": [
    {
     "data": {
      "text/plain": [
       "2"
      ]
     },
     "execution_count": 15,
     "metadata": {},
     "output_type": "execute_result"
    }
   ],
   "source": [
    "data[\"Recommend\"].isnull().sum()\n",
    "#EmpfSann (\"would you recommend eradications to others?\") contains 2 NAs, perhaps exclude"
   ]
  },
  {
   "cell_type": "markdown",
   "id": "df639ae0-964f-4659-bdee-14c4dce9ed78",
   "metadata": {},
   "source": [
    "## Numerical variables"
   ]
  },
  {
   "cell_type": "markdown",
   "id": "18a009b6-0b66-4b26-9f61-2b6a874b568c",
   "metadata": {},
   "source": [
    "only herd size and number of personnel that worked on the eradication, plus the satisfaction score"
   ]
  },
  {
   "cell_type": "code",
   "execution_count": 16,
   "id": "1208472e-72a3-45cf-b45f-c5df36e2e234",
   "metadata": {},
   "outputs": [
    {
     "data": {
      "text/plain": [
       "count    6.800000e+01\n",
       "mean    -5.882357e-11\n",
       "std      1.000000e+00\n",
       "min     -2.250458e+00\n",
       "25%     -5.731210e-01\n",
       "50%     -2.314010e-01\n",
       "75%      5.967385e-01\n",
       "max      2.910479e+00\n",
       "Name: sLHerdSize, dtype: float64"
      ]
     },
     "execution_count": 16,
     "metadata": {},
     "output_type": "execute_result"
    }
   ],
   "source": [
    "data[\"sLHerdSize\"].describe()"
   ]
  },
  {
   "cell_type": "code",
   "execution_count": 17,
   "id": "82406099-1660-49a4-8c69-8f4135b3032e",
   "metadata": {},
   "outputs": [
    {
     "data": {
      "text/plain": [
       "count    6.800000e+01\n",
       "mean    -1.323528e-10\n",
       "std      1.000000e+00\n",
       "min     -1.450536e+00\n",
       "25%     -4.184225e-01\n",
       "50%      1.853249e-01\n",
       "75%      6.136906e-01\n",
       "max      3.342449e+00\n",
       "Name: sLNrPers, dtype: float64"
      ]
     },
     "execution_count": 17,
     "metadata": {},
     "output_type": "execute_result"
    }
   ],
   "source": [
    "data[\"sLNrPers\"].describe()"
   ]
  },
  {
   "cell_type": "code",
   "execution_count": 18,
   "id": "d464d8b5-90d5-45fc-a6b2-082f0c8b4efc",
   "metadata": {},
   "outputs": [
    {
     "data": {
      "text/plain": [
       "count    68.000000\n",
       "mean      6.191176\n",
       "std       1.805938\n",
       "min       2.000000\n",
       "25%       5.000000\n",
       "50%       6.500000\n",
       "75%       7.000000\n",
       "max       9.000000\n",
       "Name: Satisfaction, dtype: float64"
      ]
     },
     "execution_count": 18,
     "metadata": {},
     "output_type": "execute_result"
    }
   ],
   "source": [
    "data[\"Satisfaction\"].describe()"
   ]
  },
  {
   "cell_type": "code",
   "execution_count": null,
   "id": "69c65f8e-0f3e-44a0-a4a8-f709ba143ea6",
   "metadata": {},
   "outputs": [],
   "source": []
  },
  {
   "cell_type": "code",
   "execution_count": 19,
   "id": "f0302707-026b-42aa-8692-30fd7157781e",
   "metadata": {},
   "outputs": [
    {
     "data": {
      "image/png": "[encoded data removed]",
      "text/plain": [
       "<Figure size 1440x1080 with 42 Axes>"
      ]
     },
     "metadata": {
      "needs_background": "light"
     },
     "output_type": "display_data"
    }
   ],
   "source": [
    "%matplotlib inline\n",
    "import matplotlib.pyplot as plt\n",
    "data.hist(bins=50, figsize=(20,15))\n",
    "#save_fig(\"attribute_histogram_plots\")\n",
    "plt.show()"
   ]
  },
  {
   "cell_type": "markdown",
   "id": "725a0cf3-bf92-441e-b67f-363337714c5b",
   "metadata": {},
   "source": [
    "## Associations"
   ]
  },
  {
   "cell_type": "code",
   "execution_count": 20,
   "id": "01093c6e-c1c7-443c-8b66-d9f0df7b1620",
   "metadata": {},
   "outputs": [
    {
     "data": {
      "text/plain": [
       "<matplotlib.legend.Legend at 0x1b4514c9ac0>"
      ]
     },
     "execution_count": 20,
     "metadata": {},
     "output_type": "execute_result"
    },
    {
     "data": {
      "image/png": "[encoded data removed]",
      "text/plain": [
       "<Figure size 720x504 with 2 Axes>"
      ]
     },
     "metadata": {
      "needs_background": "light"
     },
     "output_type": "display_data"
    }
   ],
   "source": [
    "data.plot(kind=\"scatter\", x=\"sLHerdSize\", y=\"sLNrPers\", alpha=1,\n",
    "    s=data[\"Satisfaction\"]**2, label=\"Satisfaction\", figsize=(10,7),\n",
    "    c=\"ProdType\", cmap=plt.get_cmap(\"jet\"), colorbar=True,\n",
    "    sharex=False)\n",
    "plt.legend()\n",
    "#I take the power2 of satisfaction for the size of the circles\n",
    "#Prodtype 2 and 3 are the pigglet producers and piggle rearing farms, high number of animals, \n",
    "#they are no so large in terms of biomass\n",
    "#save_fig(\"herdsize_Pers_scatterplot\")"
   ]
  },
  {
   "cell_type": "code",
   "execution_count": 21,
   "id": "a7629550-7f45-4ed9-92c1-843404cf0475",
   "metadata": {},
   "outputs": [],
   "source": [
    "corr_matrix = data.corr()"
   ]
  },
  {
   "cell_type": "code",
   "execution_count": 22,
   "id": "1586066a-c817-4939-b35d-42c503ef8bc7",
   "metadata": {},
   "outputs": [],
   "source": [
    "#corr_matrix[\"sLHerdSize\"].sort_values(ascending=False)\n",
    "#TODO Spearman-rank correlation coef"
   ]
  },
  {
   "cell_type": "code",
   "execution_count": 23,
   "id": "5c07fbe1-4a58-4dc3-b963-408d2bb249cd",
   "metadata": {},
   "outputs": [],
   "source": [
    "# from pandas.tools.plotting import scatter_matrix # For older versions of Pandas\n",
    "from pandas.plotting import scatter_matrix\n",
    "\n",
    "attributes = [\"sLHerdSize\",\"sLNrPers\"]\n",
    "#scatter_matrix(data[attributes], figsize=(12, 8))\n",
    "#save_fig(\"scatter_matrix_plot\")"
   ]
  },
  {
   "cell_type": "markdown",
   "id": "01b014d3-eb7c-4dd9-ad4c-779c5eacb9e0",
   "metadata": {},
   "source": [
    "Due to the association between herd size and personnel, we would have to normalize the personnel or the costs by the herd size; calculate the personnel per animal or the cost per animal"
   ]
  },
  {
   "cell_type": "code",
   "execution_count": 24,
   "id": "9076d17f-9ed2-43d0-a9cd-521fd88741f5",
   "metadata": {},
   "outputs": [
    {
     "data": {
      "text/plain": [
       "Satisfaction    1.000000\n",
       "SatisfBin       0.812158\n",
       "Health          0.683614\n",
       "Economic        0.602798\n",
       "Recommend       0.588988\n",
       "Medical         0.577396\n",
       "Result          0.549052\n",
       "Again           0.495858\n",
       "Financial       0.425394\n",
       "Motivation      0.410692\n",
       "Content         0.261336\n",
       "Fatten          0.249236\n",
       "ProdTypV        0.246333\n",
       "NoDisinf        0.233833\n",
       "Slurry          0.224731\n",
       "Bhyo            0.175557\n",
       "WorkLoad        0.169593\n",
       "TotalSan        0.119773\n",
       "Group2          0.063123\n",
       "NoWild          0.050836\n",
       "Sluice          0.008204\n",
       "Clothes         0.008204\n",
       "Boots          -0.011561\n",
       "sLHerdSize     -0.024830\n",
       "ContRythm      -0.033113\n",
       "sLDistance     -0.042466\n",
       "Distance       -0.049597\n",
       "Outdoor        -0.061597\n",
       "MoreLabel      -0.102974\n",
       "HerdSize       -0.113509\n",
       "NrPer          -0.130577\n",
       "sLNrPers       -0.136432\n",
       "ProdTypV2rf    -0.163818\n",
       "LabelRAUS      -0.164952\n",
       "LabelBTS       -0.165773\n",
       "SowPoolS       -0.202078\n",
       "AddPer         -0.221523\n",
       "ProdType       -0.280021\n",
       "Group1         -0.310344\n",
       "ExtMotiv       -0.340777\n",
       "Name: Satisfaction, dtype: float64"
      ]
     },
     "execution_count": 24,
     "metadata": {},
     "output_type": "execute_result"
    }
   ],
   "source": [
    "corr_matrix[\"Satisfaction\"].sort_values(ascending=False)"
   ]
  },
  {
   "cell_type": "markdown",
   "id": "063c7e50-2974-4057-8c69-8a3f480e4578",
   "metadata": {},
   "source": [
    "## Subset the data"
   ]
  },
  {
   "cell_type": "code",
   "execution_count": 25,
   "id": "b699fa3e-e941-4d5a-830f-44d387468ca1",
   "metadata": {},
   "outputs": [],
   "source": [
    "#TODO drop ContRyth"
   ]
  },
  {
   "cell_type": "code",
   "execution_count": 26,
   "id": "2c14bdee-7aa2-4a29-9319-2b6a6ca43f17",
   "metadata": {},
   "outputs": [
    {
     "data": {
      "text/plain": [
       "Index(['ProdType', 'ProdTypV', 'ProdTypV2rf', 'Motivation', 'Economic',\n",
       "       'Financial', 'Health', 'Medical', 'Content', 'WorkLoad', 'Result',\n",
       "       'Again', 'Recommend', 'Group1', 'Group2', 'Satisfaction', 'SatisfBin',\n",
       "       'ContRythm', 'Fatten', 'HerdSize', 'sLHerdSize', 'TotalSan', 'AddPer',\n",
       "       'Bhyo', 'SowPoolS', 'NrPer', 'sLNrPers', 'Sluice', 'Clothes', 'Boots',\n",
       "       'LabelBTS', 'LabelRAUS', 'MoreLabel', 'Distance', 'sLDistance',\n",
       "       'Outdoor', 'NoWild', 'Slurry', 'ExtMotiv', 'NoDisinf'],\n",
       "      dtype='object')"
      ]
     },
     "execution_count": 26,
     "metadata": {},
     "output_type": "execute_result"
    }
   ],
   "source": [
    "data.columns"
   ]
  },
  {
   "cell_type": "code",
   "execution_count": 27,
   "id": "71510e39-d46b-4caa-b3d5-7aa86298afe3",
   "metadata": {},
   "outputs": [
    {
     "data": {
      "text/html": [
       "<div>\n",
       "<style scoped>\n",
       "    .dataframe tbody tr th:only-of-type {\n",
       "        vertical-align: middle;\n",
       "    }\n",
       "\n",
       "    .dataframe tbody tr th {\n",
       "        vertical-align: top;\n",
       "    }\n",
       "\n",
       "    .dataframe thead th {\n",
       "        text-align: right;\n",
       "    }\n",
       "</style>\n",
       "<table border=\"1\" class=\"dataframe\">\n",
       "  <thead>\n",
       "    <tr style=\"text-align: right;\">\n",
       "      <th></th>\n",
       "      <th>ProdType</th>\n",
       "      <th>Group2</th>\n",
       "      <th>Satisfaction</th>\n",
       "      <th>SatisfBin</th>\n",
       "      <th>Motivation</th>\n",
       "      <th>Fatten</th>\n",
       "      <th>ExtMotiv</th>\n",
       "      <th>NoDisinf</th>\n",
       "      <th>AddPer</th>\n",
       "      <th>SowPoolS</th>\n",
       "      <th>Outdoor</th>\n",
       "    </tr>\n",
       "  </thead>\n",
       "  <tbody>\n",
       "    <tr>\n",
       "      <th>0</th>\n",
       "      <td>1</td>\n",
       "      <td>1</td>\n",
       "      <td>5</td>\n",
       "      <td>0</td>\n",
       "      <td>1.0</td>\n",
       "      <td>1</td>\n",
       "      <td>0</td>\n",
       "      <td>0</td>\n",
       "      <td>0</td>\n",
       "      <td>0</td>\n",
       "      <td>0</td>\n",
       "    </tr>\n",
       "    <tr>\n",
       "      <th>1</th>\n",
       "      <td>1</td>\n",
       "      <td>1</td>\n",
       "      <td>7</td>\n",
       "      <td>1</td>\n",
       "      <td>0.0</td>\n",
       "      <td>1</td>\n",
       "      <td>0</td>\n",
       "      <td>0</td>\n",
       "      <td>0</td>\n",
       "      <td>0</td>\n",
       "      <td>1</td>\n",
       "    </tr>\n",
       "    <tr>\n",
       "      <th>2</th>\n",
       "      <td>1</td>\n",
       "      <td>1</td>\n",
       "      <td>5</td>\n",
       "      <td>0</td>\n",
       "      <td>1.0</td>\n",
       "      <td>1</td>\n",
       "      <td>0</td>\n",
       "      <td>0</td>\n",
       "      <td>0</td>\n",
       "      <td>0</td>\n",
       "      <td>0</td>\n",
       "    </tr>\n",
       "    <tr>\n",
       "      <th>3</th>\n",
       "      <td>3</td>\n",
       "      <td>1</td>\n",
       "      <td>6</td>\n",
       "      <td>0</td>\n",
       "      <td>0.0</td>\n",
       "      <td>1</td>\n",
       "      <td>1</td>\n",
       "      <td>0</td>\n",
       "      <td>0</td>\n",
       "      <td>1</td>\n",
       "      <td>1</td>\n",
       "    </tr>\n",
       "    <tr>\n",
       "      <th>4</th>\n",
       "      <td>1</td>\n",
       "      <td>1</td>\n",
       "      <td>8</td>\n",
       "      <td>1</td>\n",
       "      <td>1.0</td>\n",
       "      <td>1</td>\n",
       "      <td>0</td>\n",
       "      <td>0</td>\n",
       "      <td>0</td>\n",
       "      <td>0</td>\n",
       "      <td>0</td>\n",
       "    </tr>\n",
       "  </tbody>\n",
       "</table>\n",
       "</div>"
      ],
      "text/plain": [
       "   ProdType  Group2  Satisfaction  SatisfBin  Motivation  Fatten  ExtMotiv  \\\n",
       "0         1       1             5          0         1.0       1         0   \n",
       "1         1       1             7          1         0.0       1         0   \n",
       "2         1       1             5          0         1.0       1         0   \n",
       "3         3       1             6          0         0.0       1         1   \n",
       "4         1       1             8          1         1.0       1         0   \n",
       "\n",
       "   NoDisinf  AddPer  SowPoolS  Outdoor  \n",
       "0         0       0         0        0  \n",
       "1         0       0         0        1  \n",
       "2         0       0         0        0  \n",
       "3         0       0         1        1  \n",
       "4         0       0         0        0  "
      ]
     },
     "execution_count": 27,
     "metadata": {},
     "output_type": "execute_result"
    }
   ],
   "source": [
    "dgr = data[['ProdType', 'Group2', 'Satisfaction', 'SatisfBin', 'Motivation', \n",
    "            'Fatten', 'ExtMotiv', 'NoDisinf', 'AddPer', 'SowPoolS', \n",
    "             'Outdoor']]\n",
    "dgr.head()"
   ]
  },
  {
   "cell_type": "code",
   "execution_count": 28,
   "id": "df8d3123-a12a-4b47-a718-c4f8f8eac274",
   "metadata": {},
   "outputs": [
    {
     "data": {
      "text/plain": [
       "(61, 11)"
      ]
     },
     "execution_count": 28,
     "metadata": {},
     "output_type": "execute_result"
    }
   ],
   "source": [
    "dgr2 = dgr.loc[lambda df: df['Group2']>0, :]\n",
    "dgr2.shape\n"
   ]
  },
  {
   "cell_type": "code",
   "execution_count": 29,
   "id": "6fc568d1-04b5-4cb3-8e77-09f4799dddc8",
   "metadata": {},
   "outputs": [
    {
     "data": {
      "text/plain": [
       "Index(['ProdType', 'Group2', 'Satisfaction', 'SatisfBin', 'Motivation',\n",
       "       'Fatten', 'ExtMotiv', 'NoDisinf', 'AddPer', 'SowPoolS', 'Outdoor'],\n",
       "      dtype='object')"
      ]
     },
     "execution_count": 29,
     "metadata": {},
     "output_type": "execute_result"
    }
   ],
   "source": [
    "dgr2.columns"
   ]
  },
  {
   "cell_type": "code",
   "execution_count": null,
   "id": "f78a6820-b7aa-475b-a72d-1ef34dc3e5f9",
   "metadata": {},
   "outputs": [],
   "source": []
  },
  {
   "cell_type": "code",
   "execution_count": 30,
   "id": "114604eb-e284-4e98-8a8f-d8b4262fea87",
   "metadata": {},
   "outputs": [
    {
     "name": "stderr",
     "output_type": "stream",
     "text": [
      "C:\\Users\\beatriz\\.conda\\envs\\CAS_AML_Nov21\\lib\\site-packages\\pandas\\core\\indexing.py:1667: SettingWithCopyWarning: \n",
      "A value is trying to be set on a copy of a slice from a DataFrame.\n",
      "Try using .loc[row_indexer,col_indexer] = value instead\n",
      "\n",
      "See the caveats in the documentation: https://pandas.pydata.org/pandas-docs/stable/user_guide/indexing.html#returning-a-view-versus-a-copy\n",
      "  self.obj[key] = value\n"
     ]
    },
    {
     "data": {
      "text/plain": [
       "0    38\n",
       "1    23\n",
       "Name: ExtMotiv, dtype: int64"
      ]
     },
     "execution_count": 30,
     "metadata": {},
     "output_type": "execute_result"
    }
   ],
   "source": [
    "dgr2.loc[ : , \"OwnMotiv\"] = dgr2[\"ExtMotiv\"]\n",
    "dgr2.columns\n",
    "pd.value_counts(dgr2[\"ExtMotiv\"])"
   ]
  },
  {
   "cell_type": "code",
   "execution_count": 31,
   "id": "f1094ca9-c400-4c54-bcec-ce313d4ffcf6",
   "metadata": {},
   "outputs": [
    {
     "name": "stderr",
     "output_type": "stream",
     "text": [
      "C:/Users/beatriz/AppData/Local/Temp/xpython_7336/1623425352.py:3: SettingWithCopyWarning: \n",
      "A value is trying to be set on a copy of a slice from a DataFrame\n",
      "\n",
      "See the caveats in the documentation: https://pandas.pydata.org/pandas-docs/stable/user_guide/indexing.html#returning-a-view-versus-a-copy\n",
      "  dgr2['OwnMotiv'][(dgr2['ExtMotiv'] ==1)] = 0\n",
      "C:\\Users\\beatriz\\.conda\\envs\\CAS_AML_Nov21\\lib\\site-packages\\pandas\\core\\generic.py:8870: SettingWithCopyWarning: \n",
      "A value is trying to be set on a copy of a slice from a DataFrame\n",
      "\n",
      "See the caveats in the documentation: https://pandas.pydata.org/pandas-docs/stable/user_guide/indexing.html#returning-a-view-versus-a-copy\n",
      "  return self._update_inplace(result)\n",
      "C:/Users/beatriz/AppData/Local/Temp/xpython_7336/1623425352.py:4: SettingWithCopyWarning: \n",
      "A value is trying to be set on a copy of a slice from a DataFrame\n",
      "\n",
      "See the caveats in the documentation: https://pandas.pydata.org/pandas-docs/stable/user_guide/indexing.html#returning-a-view-versus-a-copy\n",
      "  dgr2['OwnMotiv'][(dgr2['ExtMotiv'] ==0)] = 1\n"
     ]
    }
   ],
   "source": [
    "#recoding not necessary anymore (done in R)\n",
    "#dgr2[\"OwnMotiv\"].replace(dict(OwnMotiv={1:0, 0:1}))\n",
    "dgr2['OwnMotiv'][(dgr2['ExtMotiv'] ==1)] = 0\n",
    "dgr2['OwnMotiv'][(dgr2['ExtMotiv'] ==0)] = 1"
   ]
  },
  {
   "cell_type": "code",
   "execution_count": 32,
   "id": "bbb32b12-7589-4adc-b29e-539821c4bb3d",
   "metadata": {},
   "outputs": [
    {
     "data": {
      "text/html": [
       "<div>\n",
       "<style scoped>\n",
       "    .dataframe tbody tr th:only-of-type {\n",
       "        vertical-align: middle;\n",
       "    }\n",
       "\n",
       "    .dataframe tbody tr th {\n",
       "        vertical-align: top;\n",
       "    }\n",
       "\n",
       "    .dataframe thead th {\n",
       "        text-align: right;\n",
       "    }\n",
       "</style>\n",
       "<table border=\"1\" class=\"dataframe\">\n",
       "  <thead>\n",
       "    <tr style=\"text-align: right;\">\n",
       "      <th>ExtMotiv</th>\n",
       "      <th>0</th>\n",
       "      <th>1</th>\n",
       "    </tr>\n",
       "    <tr>\n",
       "      <th>OwnMotiv</th>\n",
       "      <th></th>\n",
       "      <th></th>\n",
       "    </tr>\n",
       "  </thead>\n",
       "  <tbody>\n",
       "    <tr>\n",
       "      <th>0</th>\n",
       "      <td>0</td>\n",
       "      <td>23</td>\n",
       "    </tr>\n",
       "    <tr>\n",
       "      <th>1</th>\n",
       "      <td>38</td>\n",
       "      <td>0</td>\n",
       "    </tr>\n",
       "  </tbody>\n",
       "</table>\n",
       "</div>"
      ],
      "text/plain": [
       "ExtMotiv   0   1\n",
       "OwnMotiv        \n",
       "0          0  23\n",
       "1         38   0"
      ]
     },
     "execution_count": 32,
     "metadata": {},
     "output_type": "execute_result"
    }
   ],
   "source": [
    "pd.crosstab(dgr2[\"OwnMotiv\"],dgr2[\"ExtMotiv\"])"
   ]
  },
  {
   "cell_type": "code",
   "execution_count": 33,
   "id": "5fdbfefb-7d75-48c7-8250-c38a32515c08",
   "metadata": {},
   "outputs": [
    {
     "data": {
      "text/html": [
       "<div>\n",
       "<style scoped>\n",
       "    .dataframe tbody tr th:only-of-type {\n",
       "        vertical-align: middle;\n",
       "    }\n",
       "\n",
       "    .dataframe tbody tr th {\n",
       "        vertical-align: top;\n",
       "    }\n",
       "\n",
       "    .dataframe thead th {\n",
       "        text-align: right;\n",
       "    }\n",
       "</style>\n",
       "<table border=\"1\" class=\"dataframe\">\n",
       "  <thead>\n",
       "    <tr style=\"text-align: right;\">\n",
       "      <th>SatisfBin</th>\n",
       "      <th>0</th>\n",
       "      <th>1</th>\n",
       "    </tr>\n",
       "    <tr>\n",
       "      <th>NoDisinf</th>\n",
       "      <th></th>\n",
       "      <th></th>\n",
       "    </tr>\n",
       "  </thead>\n",
       "  <tbody>\n",
       "    <tr>\n",
       "      <th>0</th>\n",
       "      <td>29</td>\n",
       "      <td>25</td>\n",
       "    </tr>\n",
       "    <tr>\n",
       "      <th>1</th>\n",
       "      <td>1</td>\n",
       "      <td>6</td>\n",
       "    </tr>\n",
       "  </tbody>\n",
       "</table>\n",
       "</div>"
      ],
      "text/plain": [
       "SatisfBin   0   1\n",
       "NoDisinf         \n",
       "0          29  25\n",
       "1           1   6"
      ]
     },
     "execution_count": 33,
     "metadata": {},
     "output_type": "execute_result"
    }
   ],
   "source": [
    "pd.crosstab(dgr2[\"NoDisinf\"],dgr2[\"SatisfBin\"])"
   ]
  },
  {
   "cell_type": "markdown",
   "id": "e9748a4d-9333-46a8-98a8-25004ec77a59",
   "metadata": {},
   "source": [
    "NoDisinf variable has not enough observations and should be excluded"
   ]
  },
  {
   "cell_type": "markdown",
   "id": "5ae4f91f-9f31-48c9-a45a-9fdc1d724ea2",
   "metadata": {},
   "source": [
    "## Odds Ratios"
   ]
  },
  {
   "cell_type": "markdown",
   "id": "72664ad6-bcfe-45a7-93af-c397164afd51",
   "metadata": {},
   "source": [
    "Odds Ratio is the ratio of two odds:\n",
    "\n",
    "the odds that an outcome will occur given a particular exposure, compared to the odds of the outcome occurring in the absence of that exposure\n",
    "\n",
    "-> In this study, it is the odds that high satisfaction will occur given 'being fattening', 'low cost' or 'only cleaning', compared to the odds of high satisfaction given 'being pigglet producer', 'high costs', 'having had to additionally disinfect the stalls'."
   ]
  },
  {
   "cell_type": "markdown",
   "id": "6e65c103-0d2d-4e40-9e3b-8430737dbeb2",
   "metadata": {},
   "source": [
    "OR=1 Exposure does not affect odds of outcome\n",
    "\n",
    "OR>1 Exposure associated with higher odds of outcome\n",
    "\n",
    "OR<1 Exposure associated with lower odds of outcome\n",
    "\n",
    "OR = (a/c) / (b/d)\n",
    "\n",
    "Source: https://www.ncbi.nlm.nih.gov/pmc/articles/PMC2938757/"
   ]
  },
  {
   "cell_type": "code",
   "execution_count": 34,
   "id": "47800a39-b180-44b1-a20e-03f69c3ed4e3",
   "metadata": {},
   "outputs": [
    {
     "data": {
      "text/html": [
       "<div>\n",
       "<style scoped>\n",
       "    .dataframe tbody tr th:only-of-type {\n",
       "        vertical-align: middle;\n",
       "    }\n",
       "\n",
       "    .dataframe tbody tr th {\n",
       "        vertical-align: top;\n",
       "    }\n",
       "\n",
       "    .dataframe thead th {\n",
       "        text-align: right;\n",
       "    }\n",
       "</style>\n",
       "<table border=\"1\" class=\"dataframe\">\n",
       "  <thead>\n",
       "    <tr style=\"text-align: right;\">\n",
       "      <th>SatisfBin</th>\n",
       "      <th>0</th>\n",
       "      <th>1</th>\n",
       "    </tr>\n",
       "    <tr>\n",
       "      <th>OwnMotiv</th>\n",
       "      <th></th>\n",
       "      <th></th>\n",
       "    </tr>\n",
       "  </thead>\n",
       "  <tbody>\n",
       "    <tr>\n",
       "      <th>0</th>\n",
       "      <td>17</td>\n",
       "      <td>6</td>\n",
       "    </tr>\n",
       "    <tr>\n",
       "      <th>1</th>\n",
       "      <td>13</td>\n",
       "      <td>25</td>\n",
       "    </tr>\n",
       "  </tbody>\n",
       "</table>\n",
       "</div>"
      ],
      "text/plain": [
       "SatisfBin   0   1\n",
       "OwnMotiv         \n",
       "0          17   6\n",
       "1          13  25"
      ]
     },
     "execution_count": 34,
     "metadata": {},
     "output_type": "execute_result"
    }
   ],
   "source": [
    "pd.crosstab(dgr2[\"OwnMotiv\"],dgr2[\"SatisfBin\"])\n",
    "# outcome variable Satisf should always appear in the columns"
   ]
  },
  {
   "cell_type": "code",
   "execution_count": 36,
   "id": "8195fe61-c05f-42ac-888a-ea1427d5b57b",
   "metadata": {},
   "outputs": [
    {
     "name": "stdout",
     "output_type": "stream",
     "text": [
      "5.448717948717949 0.003685631358739941\n"
     ]
    }
   ],
   "source": [
    "import scipy.stats\n",
    "ct=pd.crosstab(dgr2[\"OwnMotiv\"],dgr2[\"SatisfBin\"])\n",
    "oddsratio, pvalue = scipy.stats.fisher_exact(ct)\n",
    "#TODO try Mantel Hanszel test\n",
    "print(oddsratio, pvalue)"
   ]
  },
  {
   "cell_type": "markdown",
   "id": "6d521500-de55-42c5-92dd-6af26b71cbe6",
   "metadata": {},
   "source": [
    "### Note 1: We obtain an OR of 5.5: \"farmers who performed sanitations based on their own motivation were 5.5 more likely to be satisfied than those who had to do it due to external pressure (for example, clients would not buy their pigs)\"\n",
    "\n",
    "It is imporant to code with 1 the outcome and the exposure of interest. The category 0 is the baseline or reference category."
   ]
  },
  {
   "cell_type": "markdown",
   "id": "43a930b2-b2f1-4bc0-813f-be1eb0f804fa",
   "metadata": {},
   "source": [
    "Other good candidates for satisfaction: Fatten and NoDisinf (although this last one does not have enough observations)"
   ]
  },
  {
   "cell_type": "code",
   "execution_count": 37,
   "id": "ab3fcb30-df65-46b0-b7c6-172ee31fb7b1",
   "metadata": {},
   "outputs": [
    {
     "name": "stdout",
     "output_type": "stream",
     "text": [
      "4.0 0.058572065722833896\n"
     ]
    }
   ],
   "source": [
    "import scipy\n",
    "ct=pd.crosstab(dgr2[\"Fatten\"],dgr2[\"SatisfBin\"])\n",
    "oddsratio, pvalue = scipy.stats.fisher_exact(ct)\n",
    "#TODO try Mantel Hanszel test\n",
    "print(oddsratio, pvalue)"
   ]
  },
  {
   "cell_type": "code",
   "execution_count": 38,
   "id": "2995e3b2-8eca-4175-982d-39be06b92e17",
   "metadata": {},
   "outputs": [
    {
     "name": "stdout",
     "output_type": "stream",
     "text": [
      "6.96 0.10351559643760705\n"
     ]
    }
   ],
   "source": [
    "ct=pd.crosstab(dgr2[\"NoDisinf\"],dgr2[\"SatisfBin\"])\n",
    "oddsratio, pvalue = scipy.stats.fisher_exact(ct)\n",
    "#TODO try Mantel Hanszel test\n",
    "print(oddsratio, pvalue)"
   ]
  },
  {
   "cell_type": "code",
   "execution_count": null,
   "id": "eab75cd5-f01b-49fb-a842-5b844824505e",
   "metadata": {},
   "outputs": [],
   "source": []
  },
  {
   "cell_type": "code",
   "execution_count": null,
   "id": "7f07a701-5527-47e5-9cb9-d2ecae144b8b",
   "metadata": {},
   "outputs": [],
   "source": []
  },
  {
   "cell_type": "markdown",
   "id": "6b208c0d-5c5c-4a7c-a659-ae2aa14441a5",
   "metadata": {},
   "source": [
    "## Odds Ratio using sklearn"
   ]
  },
  {
   "cell_type": "code",
   "execution_count": 39,
   "id": "16169771-9351-4380-8932-513c15f956f1",
   "metadata": {},
   "outputs": [
    {
     "name": "stderr",
     "output_type": "stream",
     "text": [
      "C:\\Users\\beatriz\\.conda\\envs\\CAS_AML_Nov21\\lib\\site-packages\\sklearn\\utils\\validation.py:63: DataConversionWarning: A column-vector y was passed when a 1d array was expected. Please change the shape of y to (n_samples, ), for example using ravel().\n",
      "  return f(*args, **kwargs)\n"
     ]
    },
    {
     "data": {
      "text/plain": [
       "LogisticRegression(penalty='none')"
      ]
     },
     "execution_count": 39,
     "metadata": {},
     "output_type": "execute_result"
    }
   ],
   "source": [
    "from sklearn.linear_model import LogisticRegression\n",
    "#df=pd.get_dummies(dgr2,drop_first=True)\n",
    "\n",
    "#penalty = 'none' is important, default is l2\n",
    "clf = LogisticRegression(penalty='none')\n",
    "#clf.fit(df['OwnMotiv'],df['Satisf'])\n",
    "clf.fit(dgr2[[\"OwnMotiv\"]],dgr2[[\"SatisfBin\"]])\n"
   ]
  },
  {
   "cell_type": "markdown",
   "id": "8c3e232d-69be-4746-90d0-9537842249e4",
   "metadata": {},
   "source": [
    "### Note2: the default penality 'l2' in sklearn logistic regression model distorts the value of the coefficients (regularization) so we need to set penalty = 'none'"
   ]
  },
  {
   "cell_type": "code",
   "execution_count": 40,
   "id": "cce1a146-f922-4676-9af9-5f450482ba9c",
   "metadata": {},
   "outputs": [
    {
     "name": "stdout",
     "output_type": "stream",
     "text": [
      "[[5.44870805]]\n"
     ]
    }
   ],
   "source": [
    "#exponentiate the regression coefficient from the logistic regression model\n",
    "odds_ratio=np.exp(clf.coef_)\n",
    "print(odds_ratio)"
   ]
  },
  {
   "cell_type": "code",
   "execution_count": 41,
   "id": "e77f21f5-0ddf-443a-b720-281174c1a493",
   "metadata": {},
   "outputs": [
    {
     "name": "stderr",
     "output_type": "stream",
     "text": [
      "C:\\Users\\beatriz\\.conda\\envs\\CAS_AML_Nov21\\lib\\site-packages\\sklearn\\utils\\validation.py:63: DataConversionWarning: A column-vector y was passed when a 1d array was expected. Please change the shape of y to (n_samples, ), for example using ravel().\n",
      "  return f(*args, **kwargs)\n"
     ]
    },
    {
     "name": "stdout",
     "output_type": "stream",
     "text": [
      "[[3.58904818]]\n"
     ]
    }
   ],
   "source": [
    "#Check using random_state=0 as in the CAS_AML noteboook\n",
    "clf = LogisticRegression(random_state=0)\n",
    "clf.fit(dgr2[[\"OwnMotiv\"]],dgr2[[\"SatisfBin\"]])\n",
    "odds_ratio=np.exp(clf.coef_)\n",
    "print(odds_ratio)"
   ]
  },
  {
   "cell_type": "markdown",
   "id": "a33f3c1e-9ddc-4019-9b15-0cffbd87111a",
   "metadata": {},
   "source": [
    "### Note3: by not specifying penalty = 'none', we get a biased 'penalized' estimate of the Odds Ratio\n",
    "\n",
    "the default penality is 'l2' in sklearn logistic regression model\n",
    "\n",
    "This in Statistics would be called an error type II (missing the effect when there is one)"
   ]
  },
  {
   "cell_type": "code",
   "execution_count": 42,
   "id": "bda7af20-02f5-42d1-8912-fd6a7871e048",
   "metadata": {},
   "outputs": [
    {
     "name": "stderr",
     "output_type": "stream",
     "text": [
      "C:\\Users\\beatriz\\.conda\\envs\\CAS_AML_Nov21\\lib\\site-packages\\sklearn\\utils\\validation.py:63: DataConversionWarning: A column-vector y was passed when a 1d array was expected. Please change the shape of y to (n_samples, ), for example using ravel().\n",
      "  return f(*args, **kwargs)\n"
     ]
    },
    {
     "name": "stdout",
     "output_type": "stream",
     "text": [
      "[[5.44870805]]\n"
     ]
    }
   ],
   "source": [
    "#If we add the penalty = 'none', then we get the correct OR\n",
    "clf = LogisticRegression(random_state=0, penalty = 'none')\n",
    "clf.fit(dgr2[[\"OwnMotiv\"]],dgr2[[\"SatisfBin\"]])\n",
    "odds_ratio=np.exp(clf.coef_)\n",
    "print(odds_ratio)"
   ]
  },
  {
   "cell_type": "code",
   "execution_count": 43,
   "id": "9db2613c-6297-4094-a40a-dc3f4925ad59",
   "metadata": {},
   "outputs": [
    {
     "data": {
      "text/plain": [
       "(61, 12)"
      ]
     },
     "execution_count": 43,
     "metadata": {},
     "output_type": "execute_result"
    }
   ],
   "source": [
    "dgr2.columns; dgr2.shape"
   ]
  },
  {
   "cell_type": "code",
   "execution_count": 44,
   "id": "8f67f87b-701c-4270-a130-6f2aae833fb8",
   "metadata": {},
   "outputs": [],
   "source": [
    "#print the full list of ORs\n",
    "from sklearn.model_selection import train_test_split\n",
    "X = dgr2.iloc[:,8:15]\n",
    "y = dgr2['SatisfBin']\n",
    "x_train, x_test, y_train, y_test = train_test_split(X,y, test_size=0.05)\n",
    "#minimal test_size"
   ]
  },
  {
   "cell_type": "code",
   "execution_count": 45,
   "id": "7bee21f9-713a-4334-bb48-776f3c405087",
   "metadata": {},
   "outputs": [
    {
     "data": {
      "text/html": [
       "<div>\n",
       "<style scoped>\n",
       "    .dataframe tbody tr th:only-of-type {\n",
       "        vertical-align: middle;\n",
       "    }\n",
       "\n",
       "    .dataframe tbody tr th {\n",
       "        vertical-align: top;\n",
       "    }\n",
       "\n",
       "    .dataframe thead th {\n",
       "        text-align: right;\n",
       "    }\n",
       "</style>\n",
       "<table border=\"1\" class=\"dataframe\">\n",
       "  <thead>\n",
       "    <tr style=\"text-align: right;\">\n",
       "      <th></th>\n",
       "      <th>Feature</th>\n",
       "      <th>Weights</th>\n",
       "      <th>Odds Ratio</th>\n",
       "    </tr>\n",
       "  </thead>\n",
       "  <tbody>\n",
       "    <tr>\n",
       "      <th>2</th>\n",
       "      <td>Outdoor</td>\n",
       "      <td>-0.30</td>\n",
       "      <td>0.74</td>\n",
       "    </tr>\n",
       "    <tr>\n",
       "      <th>4</th>\n",
       "      <td>Intercept</td>\n",
       "      <td>-1.14</td>\n",
       "      <td>0.32</td>\n",
       "    </tr>\n",
       "    <tr>\n",
       "      <th>0</th>\n",
       "      <td>AddPer</td>\n",
       "      <td>-1.20</td>\n",
       "      <td>0.30</td>\n",
       "    </tr>\n",
       "    <tr>\n",
       "      <th>1</th>\n",
       "      <td>SowPoolS</td>\n",
       "      <td>0.79</td>\n",
       "      <td>2.20</td>\n",
       "    </tr>\n",
       "    <tr>\n",
       "      <th>3</th>\n",
       "      <td>OwnMotiv</td>\n",
       "      <td>1.90</td>\n",
       "      <td>6.69</td>\n",
       "    </tr>\n",
       "  </tbody>\n",
       "</table>\n",
       "</div>"
      ],
      "text/plain": [
       "     Feature  Weights  Odds Ratio\n",
       "2    Outdoor    -0.30        0.74\n",
       "4  Intercept    -1.14        0.32\n",
       "0     AddPer    -1.20        0.30\n",
       "1   SowPoolS     0.79        2.20\n",
       "3   OwnMotiv     1.90        6.69"
      ]
     },
     "execution_count": 45,
     "metadata": {},
     "output_type": "execute_result"
    }
   ],
   "source": [
    "clf = LogisticRegression(random_state=0,penalty = 'none').fit(x_train, y_train)\n",
    "cols = list(dgr2.columns[8:15])\n",
    "cols.append('Intercept')\n",
    "cofs = clf.coef_\n",
    "cofs = np.append(cofs,clf.intercept_)\n",
    "cofs\n",
    "idata = np.transpose([cols,cofs])\n",
    "idf = pd.DataFrame(idata,columns=['Feature','Weights'])\n",
    "idf = idf.sort_values(\"Weights\", ascending=True)\n",
    "idf['Weights'] = idf['Weights'].astype('float').round(2)\n",
    "idf['Odds Ratio'] = np.exp(idf['Weights']).round(2)\n",
    "idf\n",
    "#clf.coef_, clf.intercept_"
   ]
  },
  {
   "cell_type": "code",
   "execution_count": 46,
   "id": "dc0c24bb-8060-41fe-8791-491fc0090271",
   "metadata": {},
   "outputs": [
    {
     "name": "stderr",
     "output_type": "stream",
     "text": [
      "C:/Users/beatriz/AppData/Local/Temp/xpython_7336/3640578484.py:2: SettingWithCopyWarning: \n",
      "A value is trying to be set on a copy of a slice from a DataFrame.\n",
      "Try using .loc[row_indexer,col_indexer] = value instead\n",
      "\n",
      "See the caveats in the documentation: https://pandas.pydata.org/pandas-docs/stable/user_guide/indexing.html#returning-a-view-versus-a-copy\n",
      "  x_train['Intercept']=1\n"
     ]
    },
    {
     "name": "stdout",
     "output_type": "stream",
     "text": [
      "Optimization terminated successfully.\n",
      "         Current function value: 0.605740\n",
      "         Iterations 5\n"
     ]
    },
    {
     "data": {
      "text/html": [
       "<table class=\"simpletable\">\n",
       "<caption>Logit Regression Results</caption>\n",
       "<tr>\n",
       "  <th>Dep. Variable:</th>       <td>SatisfBin</td>    <th>  No. Observations:  </th>  <td>    57</td> \n",
       "</tr>\n",
       "<tr>\n",
       "  <th>Model:</th>                 <td>Logit</td>      <th>  Df Residuals:      </th>  <td>    52</td> \n",
       "</tr>\n",
       "<tr>\n",
       "  <th>Method:</th>                 <td>MLE</td>       <th>  Df Model:          </th>  <td>     4</td> \n",
       "</tr>\n",
       "<tr>\n",
       "  <th>Date:</th>            <td>Fri, 17 Dec 2021</td> <th>  Pseudo R-squ.:     </th>  <td>0.1259</td> \n",
       "</tr>\n",
       "<tr>\n",
       "  <th>Time:</th>                <td>09:55:16</td>     <th>  Log-Likelihood:    </th> <td> -34.527</td>\n",
       "</tr>\n",
       "<tr>\n",
       "  <th>converged:</th>             <td>True</td>       <th>  LL-Null:           </th> <td> -39.501</td>\n",
       "</tr>\n",
       "<tr>\n",
       "  <th>Covariance Type:</th>     <td>nonrobust</td>    <th>  LLR p-value:       </th>  <td>0.04133</td>\n",
       "</tr>\n",
       "</table>\n",
       "<table class=\"simpletable\">\n",
       "<tr>\n",
       "      <td></td>         <th>coef</th>     <th>std err</th>      <th>z</th>      <th>P>|z|</th>  <th>[0.025</th>    <th>0.975]</th>  \n",
       "</tr>\n",
       "<tr>\n",
       "  <th>AddPer</th>    <td>   -1.2034</td> <td>    0.803</td> <td>   -1.499</td> <td> 0.134</td> <td>   -2.777</td> <td>    0.370</td>\n",
       "</tr>\n",
       "<tr>\n",
       "  <th>SowPoolS</th>  <td>    0.7906</td> <td>    0.827</td> <td>    0.956</td> <td> 0.339</td> <td>   -0.830</td> <td>    2.411</td>\n",
       "</tr>\n",
       "<tr>\n",
       "  <th>Outdoor</th>   <td>   -0.3007</td> <td>    0.666</td> <td>   -0.451</td> <td> 0.652</td> <td>   -1.607</td> <td>    1.005</td>\n",
       "</tr>\n",
       "<tr>\n",
       "  <th>OwnMotiv</th>  <td>    1.8975</td> <td>    0.763</td> <td>    2.488</td> <td> 0.013</td> <td>    0.403</td> <td>    3.392</td>\n",
       "</tr>\n",
       "<tr>\n",
       "  <th>Intercept</th> <td>   -1.1378</td> <td>    0.743</td> <td>   -1.530</td> <td> 0.126</td> <td>   -2.595</td> <td>    0.319</td>\n",
       "</tr>\n",
       "</table>"
      ],
      "text/plain": [
       "<class 'statsmodels.iolib.summary.Summary'>\n",
       "\"\"\"\n",
       "                           Logit Regression Results                           \n",
       "==============================================================================\n",
       "Dep. Variable:              SatisfBin   No. Observations:                   57\n",
       "Model:                          Logit   Df Residuals:                       52\n",
       "Method:                           MLE   Df Model:                            4\n",
       "Date:                Fri, 17 Dec 2021   Pseudo R-squ.:                  0.1259\n",
       "Time:                        09:55:16   Log-Likelihood:                -34.527\n",
       "converged:                       True   LL-Null:                       -39.501\n",
       "Covariance Type:            nonrobust   LLR p-value:                   0.04133\n",
       "==============================================================================\n",
       "                 coef    std err          z      P>|z|      [0.025      0.975]\n",
       "------------------------------------------------------------------------------\n",
       "AddPer        -1.2034      0.803     -1.499      0.134      -2.777       0.370\n",
       "SowPoolS       0.7906      0.827      0.956      0.339      -0.830       2.411\n",
       "Outdoor       -0.3007      0.666     -0.451      0.652      -1.607       1.005\n",
       "OwnMotiv       1.8975      0.763      2.488      0.013       0.403       3.392\n",
       "Intercept     -1.1378      0.743     -1.530      0.126      -2.595       0.319\n",
       "==============================================================================\n",
       "\"\"\""
      ]
     },
     "execution_count": 46,
     "metadata": {},
     "output_type": "execute_result"
    }
   ],
   "source": [
    "import statsmodels.api as sm\n",
    "x_train['Intercept']=1\n",
    "logit_mod = sm.Logit(y_train, x_train)\n",
    "logit_res = logit_mod.fit()\n",
    "logit_res.summary()"
   ]
  },
  {
   "cell_type": "code",
   "execution_count": 47,
   "id": "3f73fd0f-6159-4402-82fd-a2d14d533182",
   "metadata": {},
   "outputs": [
    {
     "data": {
      "text/plain": [
       "(5,)"
      ]
     },
     "execution_count": 47,
     "metadata": {},
     "output_type": "execute_result"
    }
   ],
   "source": [
    "logit_res.params.shape"
   ]
  },
  {
   "cell_type": "code",
   "execution_count": 48,
   "id": "df20c1aa-9caa-47d1-8f9b-0998b6601329",
   "metadata": {},
   "outputs": [],
   "source": [
    "coeffs = logit_res.params"
   ]
  },
  {
   "cell_type": "code",
   "execution_count": 49,
   "id": "25f94029-8eab-484b-af00-959fc0e30803",
   "metadata": {},
   "outputs": [
    {
     "data": {
      "text/html": [
       "<div>\n",
       "<style scoped>\n",
       "    .dataframe tbody tr th:only-of-type {\n",
       "        vertical-align: middle;\n",
       "    }\n",
       "\n",
       "    .dataframe tbody tr th {\n",
       "        vertical-align: top;\n",
       "    }\n",
       "\n",
       "    .dataframe thead th {\n",
       "        text-align: right;\n",
       "    }\n",
       "</style>\n",
       "<table border=\"1\" class=\"dataframe\">\n",
       "  <thead>\n",
       "    <tr style=\"text-align: right;\">\n",
       "      <th></th>\n",
       "      <th>OddRatio</th>\n",
       "    </tr>\n",
       "  </thead>\n",
       "  <tbody>\n",
       "    <tr>\n",
       "      <th>AddPer</th>\n",
       "      <td>0.300165</td>\n",
       "    </tr>\n",
       "    <tr>\n",
       "      <th>Intercept</th>\n",
       "      <td>0.320518</td>\n",
       "    </tr>\n",
       "    <tr>\n",
       "      <th>Outdoor</th>\n",
       "      <td>0.740277</td>\n",
       "    </tr>\n",
       "    <tr>\n",
       "      <th>SowPoolS</th>\n",
       "      <td>2.204753</td>\n",
       "    </tr>\n",
       "    <tr>\n",
       "      <th>OwnMotiv</th>\n",
       "      <td>6.669319</td>\n",
       "    </tr>\n",
       "  </tbody>\n",
       "</table>\n",
       "</div>"
      ],
      "text/plain": [
       "           OddRatio\n",
       "AddPer     0.300165\n",
       "Intercept  0.320518\n",
       "Outdoor    0.740277\n",
       "SowPoolS   2.204753\n",
       "OwnMotiv   6.669319"
      ]
     },
     "execution_count": 49,
     "metadata": {},
     "output_type": "execute_result"
    }
   ],
   "source": [
    "OddsRatios = np.exp(coeffs)\n",
    "dfOR = pd.DataFrame(OddsRatios,columns=['OddRatio'])\n",
    "dfOR = dfOR.sort_values(\"OddRatio\", ascending=True)\n",
    "dfOR"
   ]
  },
  {
   "cell_type": "markdown",
   "id": "76e13dcf-0e4c-4e59-8c7d-56618c288d5d",
   "metadata": {},
   "source": [
    "## Other interpretable models and feature importance\n"
   ]
  },
  {
   "cell_type": "markdown",
   "id": "b7d90687-9ed9-4941-960c-b78d99076fcc",
   "metadata": {},
   "source": [
    "https://christophm.github.io/interpretable-ml-book/index.html\n",
    "\n",
    "https://scikit-learn.org/stable/modules/partial_dependence.html\n",
    "\n",
    "https://scikit-learn.org/stable/auto_examples/inspection/plot_partial_dependence.html#sphx-glr-auto-examples-inspection-plot-partial-dependence-py\n",
    "\n",
    "https://christophm.github.io/interpretable-ml-book/counterfactual.html#counterfactual"
   ]
  },
  {
   "cell_type": "markdown",
   "id": "06e5aab4",
   "metadata": {},
   "source": [
    "#### For near future: explore RuleFit for categorical (binary data)\n",
    "\n",
    "https://christophm.github.io/interpretable-ml-book/rulefit.html\n",
    "Software available at:\n",
    "https://github.com/christophM/rulefit"
   ]
  },
  {
   "cell_type": "markdown",
   "id": "cd58359b",
   "metadata": {},
   "source": [
    "### Other Rules alternatives:\n",
    "https://github.com/scikit-learn-contrib/skope-rules\n",
    "\n",
    "https://github.com/csinva/imodels\n",
    "The imodels package also contains implementations of other rule sets, such as Bayesian rule sets, Boosted rule sets, and SLIPPER rule sets as a Python package with a unified scikit-learn interface."
   ]
  },
  {
   "cell_type": "code",
   "execution_count": 50,
   "id": "5e4f7766",
   "metadata": {},
   "outputs": [],
   "source": [
    "#TODO decission trees - additional way to have interpretability"
   ]
  },
  {
   "cell_type": "markdown",
   "id": "277901d5",
   "metadata": {},
   "source": []
  },
  {
   "cell_type": "code",
   "execution_count": null,
   "id": "678a612c-eb14-4f9b-b4b0-67234b6e4a19",
   "metadata": {},
   "outputs": [],
   "source": []
  },
  {
   "cell_type": "code",
   "execution_count": null,
   "id": "374268b0-b53f-4467-9545-7720e80fa444",
   "metadata": {},
   "outputs": [],
   "source": []
  },
  {
   "cell_type": "code",
   "execution_count": null,
   "id": "44f401ba-87da-4153-b27a-4a37efccec3a",
   "metadata": {},
   "outputs": [],
   "source": []
  }
 ],
 "metadata": {
  "kernelspec": {
   "display_name": "Python 3 (ipykernel)",
   "language": "python",
   "name": "python3"
  },
  "language_info": {
   "codemirror_mode": {
    "name": "ipython",
    "version": 3
   },
   "file_extension": ".py",
   "mimetype": "text/x-python",
   "name": "python",
   "nbconvert_exporter": "python",
   "pygments_lexer": "ipython3",
   "version": "3.9.7"
  }
 },
 "nbformat": 4,
 "nbformat_minor": 5
}
